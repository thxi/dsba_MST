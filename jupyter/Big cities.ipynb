{
 "cells": [
  {
   "cell_type": "code",
   "execution_count": 76,
   "metadata": {},
   "outputs": [],
   "source": [
    "url = 'https://en.wikipedia.org/wiki/List_of_cities_and_towns_in_Russia_by_population'"
   ]
  },
  {
   "cell_type": "code",
   "execution_count": 77,
   "metadata": {},
   "outputs": [],
   "source": [
    "from bs4 import BeautifulSoup"
   ]
  },
  {
   "cell_type": "code",
   "execution_count": 78,
   "metadata": {},
   "outputs": [],
   "source": [
    "import requests"
   ]
  },
  {
   "cell_type": "code",
   "execution_count": 79,
   "metadata": {},
   "outputs": [],
   "source": [
    "resp = requests.get(url)"
   ]
  },
  {
   "cell_type": "code",
   "execution_count": 80,
   "metadata": {},
   "outputs": [],
   "source": [
    "table = BeautifulSoup(resp.text).find_all('table')[4]"
   ]
  },
  {
   "cell_type": "code",
   "execution_count": 81,
   "metadata": {},
   "outputs": [],
   "source": [
    "big_cities = dict()\n",
    "\n",
    "for row in table.find_all('tr')[1:100]:\n",
    "    cells = row.find_all('td')\n",
    "    city = cells[0].text.strip()\n",
    "    population = int(cells[4].text.strip().replace(',', ''))\n",
    "    big_cities[city] = population"
   ]
  },
  {
   "cell_type": "code",
   "execution_count": 82,
   "metadata": {},
   "outputs": [],
   "source": [
    "import pandas as pd"
   ]
  },
  {
   "cell_type": "code",
   "execution_count": 83,
   "metadata": {},
   "outputs": [],
   "source": [
    "df = pd.read_csv('../data/ru_lat_lng_clear.csv')"
   ]
  },
  {
   "cell_type": "code",
   "execution_count": 84,
   "metadata": {},
   "outputs": [],
   "source": [
    "all_cities = set(df['name'].unique())"
   ]
  },
  {
   "cell_type": "code",
   "execution_count": 85,
   "metadata": {},
   "outputs": [],
   "source": [
    "big_cities_set = set(big_cities.keys())"
   ]
  },
  {
   "cell_type": "code",
   "execution_count": 86,
   "metadata": {},
   "outputs": [
    {
     "data": {
      "text/plain": [
       "80"
      ]
     },
     "execution_count": 86,
     "metadata": {},
     "output_type": "execute_result"
    }
   ],
   "source": [
    "len(all_cities & big_cities_set)"
   ]
  },
  {
   "cell_type": "markdown",
   "metadata": {},
   "source": [
    "Seems good"
   ]
  },
  {
   "cell_type": "code",
   "execution_count": 87,
   "metadata": {},
   "outputs": [],
   "source": [
    "big_cities_clear = all_cities & big_cities_set"
   ]
  },
  {
   "cell_type": "code",
   "execution_count": 89,
   "metadata": {},
   "outputs": [
    {
     "data": {
      "text/plain": [
       "80"
      ]
     },
     "execution_count": 89,
     "metadata": {},
     "output_type": "execute_result"
    }
   ],
   "source": [
    "len(big_cities_clear)"
   ]
  },
  {
   "cell_type": "code",
   "execution_count": 99,
   "metadata": {},
   "outputs": [
    {
     "data": {
      "text/plain": [
       "80"
      ]
     },
     "execution_count": 99,
     "metadata": {},
     "output_type": "execute_result"
    }
   ],
   "source": [
    "len(big_cities_clear)"
   ]
  },
  {
   "cell_type": "code",
   "execution_count": 92,
   "metadata": {},
   "outputs": [
    {
     "data": {
      "text/html": [
       "<div>\n",
       "<style scoped>\n",
       "    .dataframe tbody tr th:only-of-type {\n",
       "        vertical-align: middle;\n",
       "    }\n",
       "\n",
       "    .dataframe tbody tr th {\n",
       "        vertical-align: top;\n",
       "    }\n",
       "\n",
       "    .dataframe thead th {\n",
       "        text-align: right;\n",
       "    }\n",
       "</style>\n",
       "<table border=\"1\" class=\"dataframe\">\n",
       "  <thead>\n",
       "    <tr style=\"text-align: right;\">\n",
       "      <th></th>\n",
       "      <th>name</th>\n",
       "      <th>country</th>\n",
       "      <th>subcountry</th>\n",
       "      <th>geonameid</th>\n",
       "      <th>lat</th>\n",
       "      <th>lng</th>\n",
       "    </tr>\n",
       "  </thead>\n",
       "  <tbody>\n",
       "    <tr>\n",
       "      <th>0</th>\n",
       "      <td>Udomlya</td>\n",
       "      <td>Russia</td>\n",
       "      <td>Tverskaya</td>\n",
       "      <td>452949</td>\n",
       "      <td>57.876779</td>\n",
       "      <td>35.005110</td>\n",
       "    </tr>\n",
       "    <tr>\n",
       "      <th>1</th>\n",
       "      <td>Sosnovka</td>\n",
       "      <td>Russia</td>\n",
       "      <td>St.-Petersburg</td>\n",
       "      <td>461698</td>\n",
       "      <td>56.253352</td>\n",
       "      <td>51.283364</td>\n",
       "    </tr>\n",
       "    <tr>\n",
       "      <th>2</th>\n",
       "      <td>Sasovo</td>\n",
       "      <td>Russia</td>\n",
       "      <td>Rjazan</td>\n",
       "      <td>461699</td>\n",
       "      <td>54.349928</td>\n",
       "      <td>41.924087</td>\n",
       "    </tr>\n",
       "    <tr>\n",
       "      <th>3</th>\n",
       "      <td>Zyuzino</td>\n",
       "      <td>Russia</td>\n",
       "      <td>Moscow</td>\n",
       "      <td>461740</td>\n",
       "      <td>55.678753</td>\n",
       "      <td>38.120862</td>\n",
       "    </tr>\n",
       "    <tr>\n",
       "      <th>4</th>\n",
       "      <td>Zyablikovo</td>\n",
       "      <td>Russia</td>\n",
       "      <td>Moscow</td>\n",
       "      <td>461835</td>\n",
       "      <td>58.786994</td>\n",
       "      <td>36.710175</td>\n",
       "    </tr>\n",
       "  </tbody>\n",
       "</table>\n",
       "</div>"
      ],
      "text/plain": [
       "         name country      subcountry  geonameid        lat        lng\n",
       "0     Udomlya  Russia       Tverskaya     452949  57.876779  35.005110\n",
       "1    Sosnovka  Russia  St.-Petersburg     461698  56.253352  51.283364\n",
       "2      Sasovo  Russia          Rjazan     461699  54.349928  41.924087\n",
       "3     Zyuzino  Russia          Moscow     461740  55.678753  38.120862\n",
       "4  Zyablikovo  Russia          Moscow     461835  58.786994  36.710175"
      ]
     },
     "execution_count": 92,
     "metadata": {},
     "output_type": "execute_result"
    }
   ],
   "source": [
    "df.head()"
   ]
  },
  {
   "cell_type": "code",
   "execution_count": 98,
   "metadata": {},
   "outputs": [
    {
     "data": {
      "text/plain": [
       "False    855\n",
       "True      82\n",
       "Name: name, dtype: int64"
      ]
     },
     "execution_count": 98,
     "metadata": {},
     "output_type": "execute_result"
    }
   ],
   "source": [
    "df['name'].isin(big_cities_clear).value_counts()"
   ]
  },
  {
   "cell_type": "code",
   "execution_count": 108,
   "metadata": {},
   "outputs": [],
   "source": [
    "df_big = df[df['name'].isin(big_cities_clear)].copy()"
   ]
  },
  {
   "cell_type": "code",
   "execution_count": 112,
   "metadata": {
    "scrolled": true
   },
   "outputs": [
    {
     "data": {
      "text/plain": [
       "Blagoveshchensk        True\n",
       "Kirov                  True\n",
       "Kemerovo              False\n",
       "Kaluga                False\n",
       "Surgut                False\n",
       "Volgograd             False\n",
       "Saint Petersburg      False\n",
       "Tver                  False\n",
       "Syktyvkar             False\n",
       "Barnaul               False\n",
       "Taganrog              False\n",
       "Vladimir              False\n",
       "Angarsk               False\n",
       "Ivanovo               False\n",
       "Yakutsk               False\n",
       "Ulyanovsk             False\n",
       "Dzerzhinsk            False\n",
       "Balashikha            False\n",
       "Vologda               False\n",
       "Samara                False\n",
       "Novorossiysk          False\n",
       "Vladikavkaz           False\n",
       "Tula                  False\n",
       "Krasnoyarsk           False\n",
       "Krasnodar             False\n",
       "Novokuznetsk          False\n",
       "Petrozavodsk          False\n",
       "Bratsk                False\n",
       "Yekaterinburg         False\n",
       "Bryansk               False\n",
       "                      ...  \n",
       "Khimki                False\n",
       "Tambov                False\n",
       "Komsomolsk-on-Amur    False\n",
       "Voronezh              False\n",
       "Izhevsk               False\n",
       "Kursk                 False\n",
       "Kazan                 False\n",
       "Cherepovets           False\n",
       "Lyubertsy             False\n",
       "Nizhnevartovsk        False\n",
       "Nizhnekamsk           False\n",
       "Chita                 False\n",
       "Kaliningrad           False\n",
       "Cheboksary            False\n",
       "Khabarovsk            False\n",
       "Yoshkar-Ola           False\n",
       "Biysk                 False\n",
       "Irkutsk               False\n",
       "Yuzhno-Sakhalinsk     False\n",
       "Astrakhan             False\n",
       "Sochi                 False\n",
       "Omsk                  False\n",
       "Orsk                  False\n",
       "Armavir               False\n",
       "Perm                  False\n",
       "Balakovo              False\n",
       "Saransk               False\n",
       "Magnitogorsk          False\n",
       "Ulan-Ude              False\n",
       "Makhachkala           False\n",
       "Name: name, Length: 80, dtype: bool"
      ]
     },
     "execution_count": 112,
     "metadata": {},
     "output_type": "execute_result"
    }
   ],
   "source": [
    "df_big['name'].value_counts()"
   ]
  },
  {
   "cell_type": "code",
   "execution_count": 113,
   "metadata": {},
   "outputs": [
    {
     "data": {
      "text/html": [
       "<div>\n",
       "<style scoped>\n",
       "    .dataframe tbody tr th:only-of-type {\n",
       "        vertical-align: middle;\n",
       "    }\n",
       "\n",
       "    .dataframe tbody tr th {\n",
       "        vertical-align: top;\n",
       "    }\n",
       "\n",
       "    .dataframe thead th {\n",
       "        text-align: right;\n",
       "    }\n",
       "</style>\n",
       "<table border=\"1\" class=\"dataframe\">\n",
       "  <thead>\n",
       "    <tr style=\"text-align: right;\">\n",
       "      <th></th>\n",
       "      <th>name</th>\n",
       "      <th>country</th>\n",
       "      <th>subcountry</th>\n",
       "      <th>geonameid</th>\n",
       "      <th>lat</th>\n",
       "      <th>lng</th>\n",
       "    </tr>\n",
       "  </thead>\n",
       "  <tbody>\n",
       "    <tr>\n",
       "      <th>617</th>\n",
       "      <td>Blagoveshchensk</td>\n",
       "      <td>Russia</td>\n",
       "      <td>Bashkortostan</td>\n",
       "      <td>576116</td>\n",
       "      <td>50.29064</td>\n",
       "      <td>127.527173</td>\n",
       "    </tr>\n",
       "    <tr>\n",
       "      <th>897</th>\n",
       "      <td>Blagoveshchensk</td>\n",
       "      <td>Russia</td>\n",
       "      <td>Amur</td>\n",
       "      <td>2026609</td>\n",
       "      <td>50.29064</td>\n",
       "      <td>127.527173</td>\n",
       "    </tr>\n",
       "  </tbody>\n",
       "</table>\n",
       "</div>"
      ],
      "text/plain": [
       "                name country     subcountry  geonameid       lat         lng\n",
       "617  Blagoveshchensk  Russia  Bashkortostan     576116  50.29064  127.527173\n",
       "897  Blagoveshchensk  Russia           Amur    2026609  50.29064  127.527173"
      ]
     },
     "execution_count": 113,
     "metadata": {},
     "output_type": "execute_result"
    }
   ],
   "source": [
    "df_big[df_big['name'] == 'Blagoveshchensk']"
   ]
  },
  {
   "cell_type": "code",
   "execution_count": 114,
   "metadata": {},
   "outputs": [
    {
     "data": {
      "text/html": [
       "<div>\n",
       "<style scoped>\n",
       "    .dataframe tbody tr th:only-of-type {\n",
       "        vertical-align: middle;\n",
       "    }\n",
       "\n",
       "    .dataframe tbody tr th {\n",
       "        vertical-align: top;\n",
       "    }\n",
       "\n",
       "    .dataframe thead th {\n",
       "        text-align: right;\n",
       "    }\n",
       "</style>\n",
       "<table border=\"1\" class=\"dataframe\">\n",
       "  <thead>\n",
       "    <tr style=\"text-align: right;\">\n",
       "      <th></th>\n",
       "      <th>name</th>\n",
       "      <th>country</th>\n",
       "      <th>subcountry</th>\n",
       "      <th>geonameid</th>\n",
       "      <th>lat</th>\n",
       "      <th>lng</th>\n",
       "    </tr>\n",
       "  </thead>\n",
       "  <tbody>\n",
       "    <tr>\n",
       "      <th>471</th>\n",
       "      <td>Kirov</td>\n",
       "      <td>Russia</td>\n",
       "      <td>Kirov</td>\n",
       "      <td>548408</td>\n",
       "      <td>58.603591</td>\n",
       "      <td>49.668014</td>\n",
       "    </tr>\n",
       "    <tr>\n",
       "      <th>472</th>\n",
       "      <td>Kirov</td>\n",
       "      <td>Russia</td>\n",
       "      <td>Kaluga</td>\n",
       "      <td>548410</td>\n",
       "      <td>58.603591</td>\n",
       "      <td>49.668014</td>\n",
       "    </tr>\n",
       "  </tbody>\n",
       "</table>\n",
       "</div>"
      ],
      "text/plain": [
       "      name country subcountry  geonameid        lat        lng\n",
       "471  Kirov  Russia      Kirov     548408  58.603591  49.668014\n",
       "472  Kirov  Russia     Kaluga     548410  58.603591  49.668014"
      ]
     },
     "execution_count": 114,
     "metadata": {},
     "output_type": "execute_result"
    }
   ],
   "source": [
    "df_big[df_big['name'] == 'Kirov']"
   ]
  },
  {
   "cell_type": "code",
   "execution_count": 118,
   "metadata": {},
   "outputs": [],
   "source": [
    "df_big = df_big.drop([897, 472])"
   ]
  },
  {
   "cell_type": "code",
   "execution_count": 122,
   "metadata": {},
   "outputs": [],
   "source": [
    "df_big.to_csv('../data/ru_lat_lng_clear_v2.csv', index=False)"
   ]
  }
 ],
 "metadata": {
  "kernelspec": {
   "display_name": "Python 3",
   "language": "python",
   "name": "python3"
  },
  "language_info": {
   "codemirror_mode": {
    "name": "ipython",
    "version": 3
   },
   "file_extension": ".py",
   "mimetype": "text/x-python",
   "name": "python",
   "nbconvert_exporter": "python",
   "pygments_lexer": "ipython3",
   "version": "3.7.3"
  }
 },
 "nbformat": 4,
 "nbformat_minor": 2
}
