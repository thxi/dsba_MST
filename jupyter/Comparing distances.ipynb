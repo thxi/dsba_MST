{
 "cells": [
  {
   "cell_type": "code",
   "execution_count": 107,
   "metadata": {},
   "outputs": [],
   "source": [
    "import pandas as pd\n",
    "import numpy as np\n",
    "import seaborn as sns"
   ]
  },
  {
   "cell_type": "code",
   "execution_count": 54,
   "metadata": {},
   "outputs": [],
   "source": [
    "edges_small = pd.read_csv('../data/mst_real_edges_small.csv')\n",
    "edges_big = pd.read_csv('../data/mst_real_edges_big.csv')"
   ]
  },
  {
   "cell_type": "code",
   "execution_count": 55,
   "metadata": {},
   "outputs": [
    {
     "data": {
      "text/html": [
       "<div>\n",
       "<style scoped>\n",
       "    .dataframe tbody tr th:only-of-type {\n",
       "        vertical-align: middle;\n",
       "    }\n",
       "\n",
       "    .dataframe tbody tr th {\n",
       "        vertical-align: top;\n",
       "    }\n",
       "\n",
       "    .dataframe thead th {\n",
       "        text-align: right;\n",
       "    }\n",
       "</style>\n",
       "<table border=\"1\" class=\"dataframe\">\n",
       "  <thead>\n",
       "    <tr style=\"text-align: right;\">\n",
       "      <th></th>\n",
       "      <th>node1</th>\n",
       "      <th>node2</th>\n",
       "      <th>dist</th>\n",
       "      <th>real_dist</th>\n",
       "    </tr>\n",
       "  </thead>\n",
       "  <tbody>\n",
       "    <tr>\n",
       "      <th>0</th>\n",
       "      <td>Angarsk</td>\n",
       "      <td>Irkutsk</td>\n",
       "      <td>0.005037</td>\n",
       "      <td>45151.0</td>\n",
       "    </tr>\n",
       "    <tr>\n",
       "      <th>1</th>\n",
       "      <td>Armavir</td>\n",
       "      <td>Sochi</td>\n",
       "      <td>0.021116</td>\n",
       "      <td>371442.0</td>\n",
       "    </tr>\n",
       "  </tbody>\n",
       "</table>\n",
       "</div>"
      ],
      "text/plain": [
       "     node1    node2      dist  real_dist\n",
       "0  Angarsk  Irkutsk  0.005037    45151.0\n",
       "1  Armavir    Sochi  0.021116   371442.0"
      ]
     },
     "execution_count": 55,
     "metadata": {},
     "output_type": "execute_result"
    }
   ],
   "source": [
    "edges_small.head(2)"
   ]
  },
  {
   "cell_type": "code",
   "execution_count": 56,
   "metadata": {},
   "outputs": [],
   "source": [
    "from math import pi"
   ]
  },
  {
   "cell_type": "code",
   "execution_count": 57,
   "metadata": {},
   "outputs": [],
   "source": [
    "def rad_to_mm(r):\n",
    "    return r / pi * 180 * 111 * 1000"
   ]
  },
  {
   "cell_type": "code",
   "execution_count": 58,
   "metadata": {},
   "outputs": [],
   "source": [
    "edges_small['dist'] = edges_small['dist'].apply(rad_to_mm)\n",
    "edges_big['dist'] = edges_big['dist'].apply(rad_to_mm)"
   ]
  },
  {
   "cell_type": "code",
   "execution_count": 59,
   "metadata": {},
   "outputs": [],
   "source": [
    "def nan(r):\n",
    "    if np.isnan(r['real_dist']):\n",
    "        return r['dist']\n",
    "    return r['real_dist']"
   ]
  },
  {
   "cell_type": "code",
   "execution_count": 60,
   "metadata": {
    "scrolled": true
   },
   "outputs": [],
   "source": [
    "edges_small['real_dist'] = edges_small.apply(nan, axis=1)\n",
    "edges_big['real_dist'] = edges_big.apply(nan, axis=1)"
   ]
  },
  {
   "cell_type": "markdown",
   "metadata": {},
   "source": [
    "#### Saved distance in m"
   ]
  },
  {
   "cell_type": "code",
   "execution_count": 93,
   "metadata": {},
   "outputs": [
    {
     "data": {
      "text/plain": [
       "2092914.0"
      ]
     },
     "execution_count": 93,
     "metadata": {},
     "output_type": "execute_result"
    }
   ],
   "source": [
    "max_dist = max(edges_small['real_dist'])\n",
    "max_dist"
   ]
  },
  {
   "cell_type": "code",
   "execution_count": 91,
   "metadata": {},
   "outputs": [
    {
     "data": {
      "text/plain": [
       "12107257.711834975"
      ]
     },
     "execution_count": 91,
     "metadata": {},
     "output_type": "execute_result"
    }
   ],
   "source": [
    "diff_sum = sum(edges_small['real_dist'] - edges_small['dist'])\n",
    "diff_sum"
   ]
  },
  {
   "cell_type": "code",
   "execution_count": 105,
   "metadata": {},
   "outputs": [],
   "source": [
    "diffs = edges_small['real_dist'] - edges_small['dist']"
   ]
  },
  {
   "cell_type": "code",
   "execution_count": 110,
   "metadata": {},
   "outputs": [
    {
     "data": {
      "image/png": "[encoded data removed]",
      "text/plain": [
       "<Figure size 432x288 with 1 Axes>"
      ]
     },
     "metadata": {
      "needs_background": "light"
     },
     "output_type": "display_data"
    }
   ],
   "source": [
    "sns.distplot(diffs);"
   ]
  },
  {
   "cell_type": "code",
   "execution_count": null,
   "metadata": {},
   "outputs": [],
   "source": []
  },
  {
   "cell_type": "code",
   "execution_count": 159,
   "metadata": {},
   "outputs": [],
   "source": [
    "import folium\n",
    "\n",
    "def make_map(edges, coord, file_name, postfix, markers=False):\n",
    "    m = folium.Map(\n",
    "        location=[61.254035, 73.396221],\n",
    "        zoom_start=3,\n",
    "        tiles='CartoDB positron'\n",
    "    )\n",
    "    max_dist = max(edges['real_dist'])\n",
    "    diff_sum = sum(edges['real_dist'] - edges['dist'])\n",
    "    diff_max = max(edges['real_dist'] - edges['dist'])\n",
    "\n",
    "    used = dict()\n",
    "    for (_, edge) in edges.iterrows():\n",
    "        city1, city2 = edge['node1'], edge['node2']\n",
    "        p1, p2 = coord[city1], coord[city2]\n",
    "        diff = edge['real_dist'] - edge['dist']\n",
    "        if (diff < 0):\n",
    "            diff = 0\n",
    "        opacity = (0.2+diff**(1.1)/diff_max)\n",
    "        popup = '{}-{}\\nReal dist: {}\\n Line length: {} (in km)'.format(city1,\n",
    "                city2, edge['real_dist']/ 1000,edge['dist']/ 1000)\n",
    "        folium.PolyLine([p1, p2], popup=popup, opacity=opacity).add_to(m)\n",
    "        if markers:\n",
    "            if (city1 not in used):\n",
    "                used[city1] = 0\n",
    "                folium.Marker([p1[0], p1[1]], popup=city1,\n",
    "                              icon=folium.Icon(icon='circle')).add_to(m)\n",
    "            if (city2 not in used):\n",
    "                used[city2] = 0\n",
    "                folium.Marker([p2[0], p2[1]], popup=city2,\n",
    "                              icon=folium.Icon(icon='circle')).add_to(m)\n",
    "\n",
    "    if markers:\n",
    "        file_name += '_markers'\n",
    "    m.save('../maps/'+file_name+postfix+'.html')\n",
    "    print(file_name+postfix+'.html')\n",
    "    return m"
   ]
  },
  {
   "cell_type": "code",
   "execution_count": null,
   "metadata": {},
   "outputs": [
    {
     "name": "stdout",
     "output_type": "stream",
     "text": [
      "comparison_map_v2.html\n",
      "comparison_map_markers_v2.html\n",
      "comparison_map_v1.html\n",
      "comparison_map_markers_v1.html\n"
     ]
    }
   ],
   "source": [
    "cities = pd.read_csv('../data/ru_lat_lng_clear.csv')\n",
    "\n",
    "coord = dict()\n",
    "for (_, city) in cities.iterrows():\n",
    "    coord[city['name']] = (city['lat'], city['lng'])\n",
    "\n",
    "make_map(edges_small, coord, 'comparison'+'_map', '_v2')\n",
    "make_map(edges_small, coord, 'comparison'+'_map', '_v2', True)\n",
    "make_map(edges_big, coord, 'comparison'+'_map', '_v1')\n",
    "make_map(edges_big, coord, 'comparison'+'_map', '_v1', True)"
   ]
  },
  {
   "cell_type": "code",
   "execution_count": null,
   "metadata": {},
   "outputs": [],
   "source": []
  }
 ],
 "metadata": {
  "kernelspec": {
   "display_name": "Python 3",
   "language": "python",
   "name": "python3"
  },
  "language_info": {
   "codemirror_mode": {
    "name": "ipython",
    "version": 3
   },
   "file_extension": ".py",
   "mimetype": "text/x-python",
   "name": "python",
   "nbconvert_exporter": "python",
   "pygments_lexer": "ipython3",
   "version": "3.7.3"
  }
 },
 "nbformat": 4,
 "nbformat_minor": 2
}
